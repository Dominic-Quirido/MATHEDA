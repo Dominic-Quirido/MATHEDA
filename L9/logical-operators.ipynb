{
 "cells": [
  {
   "cell_type": "markdown",
   "metadata": {},
   "source": [
    "# Logical Operators <hr style=\"border:3x solid #FE1919\"> </hr>"
   ]
  },
  {
   "cell_type": "markdown",
   "metadata": {},
   "source": [
    "Data Analyst: Dominic L. Quirido\n",
    "\n",
    "Department: Electrical Engineering"
   ]
  },
  {
   "cell_type": "markdown",
   "metadata": {},
   "source": [
    "# Logical AND"
   ]
  },
  {
   "cell_type": "code",
   "execution_count": 1,
   "metadata": {},
   "outputs": [
    {
     "name": "stdout",
     "output_type": "stream",
     "text": [
      "both are true\n"
     ]
    }
   ],
   "source": [
    "# a AND b must be true\n",
    "a = True\n",
    "b = True\n",
    "\n",
    "if a and b:\n",
    "    print(\"both are true\")\n",
    "elif not(a) and not (b):\n",
    "    print (\"both are false\")\n",
    "else:\n",
    "    print(\"atleast one is false\")"
   ]
  },
  {
   "cell_type": "code",
   "execution_count": 2,
   "metadata": {},
   "outputs": [
    {
     "name": "stdout",
     "output_type": "stream",
     "text": [
      "2933 is out of range\n"
     ]
    }
   ],
   "source": [
    "\n",
    "a = 2933\n",
    "\n",
    "if a > 0 and a <= 10:\n",
    "    print(str(a)+\" is within the range of 1 to 10\")\n",
    "    # check if a is within range of 1 to 10\n",
    "elif a > 10 and a <= 20:\n",
    "    print(str(a)+\" is within the range of 11 to 20\")\n",
    "    # check if a is within range of 11 to 20\n",
    "elif a > 20 and a <= 30:\n",
    "    print(str(a)+\" is within the range of 21 to 30\")\n",
    "    # check if a is within range of 21 to 30\n",
    "else:\n",
    "    print(str(a) + \" is out of range\")\n",
    "    # check if a is out of range"
   ]
  },
  {
   "cell_type": "markdown",
   "metadata": {},
   "source": [
    "# Logical OR "
   ]
  },
  {
   "cell_type": "code",
   "execution_count": 3,
   "metadata": {},
   "outputs": [
    {
     "name": "stdout",
     "output_type": "stream",
     "text": [
      "both are false\n"
     ]
    }
   ],
   "source": [
    "a = False\n",
    "b = False\n",
    "\n",
    "if a or b:\n",
    "    print (\"at least one is  true\")\n",
    "else:\n",
    "    print(\"both are false\")"
   ]
  },
  {
   "cell_type": "code",
   "execution_count": 4,
   "metadata": {},
   "outputs": [
    {
     "name": "stdout",
     "output_type": "stream",
     "text": [
      "Bring an umbrella or stay indoors!\n"
     ]
    }
   ],
   "source": [
    "# Go ouytside or stay indoors\n",
    "weather = \"stormy\"\n",
    "\n",
    "if (weather == 'rainy') or (weather == 'stormy'):\n",
    "    print(\"Bring an umbrella or stay indoors!\")\n",
    "elif(weather == 'sunny') or (weather == 'clear'):\n",
    "    print(\"It's a great day to go outside!\")\n",
    "else:\n",
    "    print(\"The weather is unpredictable today\")"
   ]
  },
  {
   "cell_type": "markdown",
   "metadata": {},
   "source": [
    "# Logical NOT"
   ]
  },
  {
   "cell_type": "code",
   "execution_count": 5,
   "metadata": {},
   "outputs": [
    {
     "data": {
      "text/plain": [
       "False"
      ]
     },
     "execution_count": 5,
     "metadata": {},
     "output_type": "execute_result"
    }
   ],
   "source": [
    "# negates the logical state\n",
    "a = True\n",
    "not a\n"
   ]
  },
  {
   "cell_type": "code",
   "execution_count": 6,
   "metadata": {},
   "outputs": [
    {
     "name": "stdout",
     "output_type": "stream",
     "text": [
      "8 is odd \n"
     ]
    }
   ],
   "source": [
    "# odd or even number\n",
    "a = 8\n",
    "if not a%2 == 0:\n",
    "    print(str(a) + \" is even \")\n",
    "else:\n",
    "    print(str(a) + \" is odd \")"
   ]
  }
 ],
 "metadata": {
  "kernelspec": {
   "display_name": "Python 3",
   "language": "python",
   "name": "python3"
  },
  "language_info": {
   "codemirror_mode": {
    "name": "ipython",
    "version": 3
   },
   "file_extension": ".py",
   "mimetype": "text/x-python",
   "name": "python",
   "nbconvert_exporter": "python",
   "pygments_lexer": "ipython3",
   "version": "3.13.3"
  }
 },
 "nbformat": 4,
 "nbformat_minor": 2
}
